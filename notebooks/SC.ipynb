{
 "cells": [
  {
   "cell_type": "code",
   "execution_count": 6,
   "metadata": {},
   "outputs": [],
   "source": [
    "from torch_geometric.datasets import Planetoid\n",
    "import os.path as osp\n",
    "import torch_geometric.transforms as T\n",
    "import torch\n",
    "from torch_geometric import utils\n",
    "from torch_geometric.data import Data\n",
    "\n",
    "import os\n",
    "import sys\n",
    "module_path = os.path.abspath(os.path.join('..'))\n",
    "if module_path not in sys.path:\n",
    "    sys.path.append(module_path)\n",
    "\n",
    "from utils.eval_metrics import *\n",
    "\n",
    "dataset = 'Cora'\n",
    "path = osp.join('..', 'data', dataset)\n",
    "dataset = Planetoid(path, dataset, transform=T.NormalizeFeatures())\n",
    "data = dataset[0]\n",
    "\n",
    "# data.edge_index, data.edge_weight = gcn_norm(  \n",
    "#                 data.edge_index, data.edge_weight, data.num_nodes,\n",
    "#                 add_self_loops=False, dtype=data.x.dtype)\n",
    "from sklearn.decomposition import PCA\n",
    "\n",
    "def reduce_dimensions(features, new_dim=64):\n",
    "    pca = PCA(n_components=new_dim)\n",
    "    reduced_features = pca.fit_transform(features)\n",
    "    return torch.tensor(reduced_features, dtype=torch.float)\n",
    "\n",
    "delta = 0.85\n",
    "edge_index, edge_weight = utils.get_laplacian(data.edge_index, data.edge_weight, normalization='sym')\n",
    "L = utils.to_dense_adj(edge_index, edge_attr=edge_weight)\n",
    "A = torch.eye(data.num_nodes) - delta*L\n",
    "data.edge_index, data.edge_weight = utils.dense_to_sparse(A)\n",
    "use_cuda = torch.cuda.is_available()\n",
    "device = torch.device(\"cuda:0\" if use_cuda else \"cpu\")\n",
    "data = data.to(device)\n",
    "original_data = Data(x=reduce_dimensions(data.x.numpy()), edge_index=data.edge_index)"
   ]
  },
  {
   "cell_type": "code",
   "execution_count": 7,
   "metadata": {},
   "outputs": [],
   "source": [
    "import torch\n",
    "edge_index = dataset[0].edge_index\n",
    "num_nodes = dataset[0].num_nodes\n",
    "adjacency_matrix = torch.zeros((num_nodes, num_nodes), dtype=torch.float)\n",
    "adjacency_matrix[edge_index[0], edge_index[1]] = 1\n"
   ]
  },
  {
   "cell_type": "code",
   "execution_count": 8,
   "metadata": {},
   "outputs": [
    {
     "name": "stderr",
     "output_type": "stream",
     "text": [
      "/opt/homebrew/lib/python3.11/site-packages/sklearn/manifold/_spectral_embedding.py:273: UserWarning: Graph is not fully connected, spectral embedding may not work as expected.\n",
      "  warnings.warn(\n"
     ]
    }
   ],
   "source": [
    "from sklearn.cluster import SpectralClustering\n",
    "adjacency_matrix_np = adjacency_matrix.numpy()\n",
    "clustering = SpectralClustering(n_clusters=dataset.num_classes, affinity='precomputed', assign_labels='discretize').fit(adjacency_matrix_np)\n",
    "labels = clustering.labels_\n"
   ]
  },
  {
   "cell_type": "code",
   "execution_count": 11,
   "metadata": {},
   "outputs": [
    {
     "name": "stdout",
     "output_type": "stream",
     "text": [
      "NMI: 0.149, ACC: 0.335\n"
     ]
    },
    {
     "name": "stderr",
     "output_type": "stream",
     "text": [
      "/var/folders/st/cyh3v8ln22sdswp1s386w5vw0000gn/T/ipykernel_51405/3975282371.py:3: UserWarning: To copy construct from a tensor, it is recommended to use sourceTensor.clone().detach() or sourceTensor.clone().detach().requires_grad_(True), rather than torch.tensor(sourceTensor).\n",
      "  acc, nmi = eval_metrics(torch.tensor(labels_true), torch.tensor(labels))\n"
     ]
    }
   ],
   "source": [
    "from sklearn.metrics import normalized_mutual_info_score\n",
    "labels_true = dataset[0].y\n",
    "acc, nmi = eval_metrics(torch.tensor(labels_true), torch.tensor(labels))\n",
    "print(f'NMI: {nmi:.3f}, ACC: {acc:.3f}')"
   ]
  }
 ],
 "metadata": {
  "kernelspec": {
   "display_name": "Python 3",
   "language": "python",
   "name": "python3"
  },
  "language_info": {
   "codemirror_mode": {
    "name": "ipython",
    "version": 3
   },
   "file_extension": ".py",
   "mimetype": "text/x-python",
   "name": "python",
   "nbconvert_exporter": "python",
   "pygments_lexer": "ipython3",
   "version": "3.11.7"
  }
 },
 "nbformat": 4,
 "nbformat_minor": 2
}
